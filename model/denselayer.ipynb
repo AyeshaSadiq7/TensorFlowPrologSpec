{
 "cells": [
  {
   "cell_type": "code",
   "execution_count": 1,
   "metadata": {},
   "outputs": [],
   "source": [
    "import tensorflow as tf\n",
    "import numpy as np"
   ]
  },
  {
   "cell_type": "code",
   "execution_count": 4,
   "metadata": {
    "scrolled": false
   },
   "outputs": [
    {
     "name": "stdout",
     "output_type": "stream",
     "text": [
      "(None, 5)\n",
      "[array([[-0.03959982,  0.02600263, -0.0453459 ,  0.00728121],\n",
      "       [ 0.04185596, -0.02105214,  0.04376495,  0.01031599],\n",
      "       [-0.04635012, -0.02611103, -0.0092322 ,  0.01997516],\n",
      "       [-0.04922478, -0.01955363, -0.03434918,  0.00821912],\n",
      "       [ 0.00882568,  0.03932558, -0.015566  , -0.04772401]],\n",
      "      dtype=float32)\n",
      " array([1., 1., 1., 1.], dtype=float32)\n",
      " array([[-0.03959982,  0.02600263],\n",
      "       [-0.0453459 ,  0.00728121],\n",
      "       [ 0.04185596, -0.02105214],\n",
      "       [ 0.04376495,  0.01031599]], dtype=float32)\n",
      " array([1., 1.], dtype=float32)]\n",
      "(None, 2)\n",
      "WARNING:tensorflow:Your input ran out of data; interrupting training. Make sure that your dataset or generator can generate at least `steps_per_epoch * epochs` batches (in this case, 100 batches). You may need to use the repeat() function when building your dataset.\n",
      "[[1.0013169 1.016192 ]\n",
      " [1.0013169 1.016192 ]\n",
      " [1.0013169 1.016192 ]\n",
      " [1.0013169 1.016192 ]\n",
      " [1.0013169 1.016192 ]]\n",
      "Epoch 1/10\n",
      "1/1 [==============================] - 0s 3ms/step - loss: 0.7165 - accuracy: 0.4000\n",
      "Epoch 2/10\n",
      "1/1 [==============================] - 0s 3ms/step - loss: 0.7046 - accuracy: 0.4000\n",
      "Epoch 3/10\n",
      "1/1 [==============================] - 0s 5ms/step - loss: 0.6933 - accuracy: 0.4000\n",
      "Epoch 4/10\n",
      "1/1 [==============================] - 0s 9ms/step - loss: 0.6828 - accuracy: 0.4000\n",
      "Epoch 5/10\n",
      "1/1 [==============================] - 0s 4ms/step - loss: 0.6729 - accuracy: 0.4000\n",
      "Epoch 6/10\n",
      "1/1 [==============================] - 0s 3ms/step - loss: 0.6636 - accuracy: 0.4000\n",
      "Epoch 7/10\n",
      "1/1 [==============================] - 0s 2ms/step - loss: 0.6548 - accuracy: 0.4000\n",
      "Epoch 8/10\n",
      "1/1 [==============================] - 0s 3ms/step - loss: 0.6466 - accuracy: 0.4000\n",
      "Epoch 9/10\n",
      "1/1 [==============================] - 0s 2ms/step - loss: 0.6389 - accuracy: 0.4000\n",
      "Epoch 10/10\n",
      "1/1 [==============================] - 0s 3ms/step - loss: 0.6316 - accuracy: 0.4000\n",
      "Model: \"sequential_2\"\n",
      "_________________________________________________________________\n",
      "Layer (type)                 Output Shape              Param #   \n",
      "=================================================================\n",
      "dense_4 (Dense)              (None, 4)                 24        \n",
      "_________________________________________________________________\n",
      "dense_5 (Dense)              (None, 2)                 10        \n",
      "=================================================================\n",
      "Total params: 34\n",
      "Trainable params: 34\n",
      "Non-trainable params: 0\n",
      "_________________________________________________________________\n"
     ]
    }
   ],
   "source": [
    "# This is a dense layer model with 2 hidden layers, the first layer has 4 units and second layer has 2 unit, \n",
    "# so the output shape is (None,2)\n",
    "model = tf.keras.models.Sequential() # define a sequential model\n",
    "model.add(tf.keras.Input(shape=(5,)))# define input features, it will take as input arrays of shape (None, 5)\n",
    "\n",
    "#weight_init = tf.keras.initializers.RandomUniform(minval=0., maxval=1.) #initialize bias and weights in a given range\n",
    "#bias_init= tf.keras.initializers.RandomUniform(seed=10) #initialize random bias with the given seed\n",
    "#initializer = tf.keras.initializers.Zeros() #initialize bias and weight with zeros\n",
    "#unit_initializer = tf.keras.initializers.Constant(4.)#initialize number of units in a layer\n",
    "#units = unit_initializer(shape=(1, 1))#initialize number of units in a laye\n",
    "\n",
    "weight_init= tf.keras.initializers.RandomUniform(seed=10) #initialize random bias and weights with the given seed\n",
    "model.add(tf.keras.layers.Dense(4, activation='sigmoid',kernel_initializer=weight_init, bias_initializer=tf.keras.initializers.ones)) #define number of layers and output arrays of shape (None, 1).\n",
    "model.add(tf.keras.layers.Dense(2, activation='relu', kernel_initializer=weight_init,bias_initializer=tf.keras.initializers.ones)) #define number of layers and output arrays of shape (None, 1).\n",
    "print(model.input_shape)\n",
    "w = model.get_weights()\n",
    "#w[0][0][0] = 1\n",
    "#w[0][1][0] = 2\n",
    "#w[0][2][0] = 1\n",
    "#w[0][3][0] = 2\n",
    "#w[0][4][0] = 1\n",
    "#w[0][0][1] = 3\n",
    "#w[0][1][1] = 4\n",
    "#w[0][2][1] = 3\n",
    "#w[0][3][1] = 4\n",
    "#w[0][4][1] = 3\n",
    "#w[1][0]   = 0.5\n",
    "#w[1][1]   = 0.5\n",
    "#w[2][0]   = 3.5\n",
    "model.set_weights(w)\n",
    "m = model.get_weights()\n",
    "print(np.array(m))\n",
    "#len(model.weights)\n",
    "x = tf.constant([[1,2,1,2,1],[1,2,1,2,1],[1,2,1,2,1],[1,2,1,2,1],[1,2,1,2,1]])\n",
    "print(model.output_shape)\n",
    "print(model.predict(x,steps=100))\n",
    "model.compile(optimizer = 'sgd', loss='mse', metrics=['accuracy'])# compile with optimizer \n",
    "y = tf.constant([[1,1],[1,2],[1,0.5],[1,2],[3,2]],name = 'Actual_output', dtype=tf.float32)\n",
    "model.fit(x,y,epochs=10)\n",
    "model.summary()\n",
    "#model.save(self,'C:/Users/asad22/git-workshop/TensorFlowPrologSpec/model')"
   ]
  },
  {
   "cell_type": "code",
   "execution_count": null,
   "metadata": {},
   "outputs": [],
   "source": []
  }
 ],
 "metadata": {
  "kernelspec": {
   "display_name": "Python 3",
   "language": "python",
   "name": "python3"
  },
  "language_info": {
   "codemirror_mode": {
    "name": "ipython",
    "version": 3
   },
   "file_extension": ".py",
   "mimetype": "text/x-python",
   "name": "python",
   "nbconvert_exporter": "python",
   "pygments_lexer": "ipython3",
   "version": "3.7.7"
  }
 },
 "nbformat": 4,
 "nbformat_minor": 4
}
